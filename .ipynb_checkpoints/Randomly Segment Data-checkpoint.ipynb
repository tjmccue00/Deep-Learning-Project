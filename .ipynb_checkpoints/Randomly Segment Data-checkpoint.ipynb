{
 "cells": [
  {
   "cell_type": "code",
   "execution_count": 17,
   "metadata": {},
   "outputs": [],
   "source": [
    "import shutil\n",
    "import os\n",
    "import random\n",
    "from os import listdir"
   ]
  },
  {
   "cell_type": "code",
   "execution_count": 27,
   "metadata": {
    "scrolled": true
   },
   "outputs": [],
   "source": [
    "## HOW TO USE THIS FILE\n",
    "\n",
    "# Change \"basedir\"\n",
    "# Change \"folder\"\n",
    "# Run"
   ]
  },
  {
   "cell_type": "code",
   "execution_count": 18,
   "metadata": {},
   "outputs": [],
   "source": [
    "# Establish directories\n",
    "basedir = \"C://Users//Damond//Desktop//WINTER 2023//CSC487//Deep-Learning-Project\"\n",
    "traindir = os.path.join(basedir, \"train\")\n",
    "validationdir = os.path.join(basedir, \"validation\")\n",
    "testdir = os.path.join(basedir, \"test\")"
   ]
  },
  {
   "cell_type": "code",
   "execution_count": 26,
   "metadata": {},
   "outputs": [],
   "source": [
    "# Establsih folder\n",
    "folder = \"yellowstone\"\n",
    "picturefiles = listdir(os.path.join(traindir, folder))\n",
    "\n",
    "# Moved pictures\n",
    "movedpics = []\n",
    "\n",
    "# Number of pictures to move\n",
    "num = 150\n",
    "\n",
    "# Move images to validation folder\n",
    "n = 0\n",
    "while n < num:\n",
    "    # Pick a random image\n",
    "    randompic = random.choice(picturefiles)\n",
    "    if randompic != \"Meta_Data\" and randompic not in movedpics:\n",
    "        shutil.move(os.path.join(traindir, folder, randompic), os.path.join(validationdir, folder, randompic))\n",
    "        n += 1\n",
    "        movedpics.append(randompic)\n",
    "\n",
    "# Move images to test folder\n",
    "n = 0\n",
    "while n < num:\n",
    "    # Pick a random image\n",
    "    randompic = random.choice(picturefiles)\n",
    "    if randompic != \"Meta_Data\" and randompic not in movedpics:\n",
    "        shutil.move(os.path.join(traindir, folder, randompic), os.path.join(testdir, folder, randompic))\n",
    "        n += 1\n",
    "        movedpics.append(randompic)"
   ]
  }
 ],
 "metadata": {
  "kernelspec": {
   "display_name": "Python 3",
   "language": "python",
   "name": "python3"
  },
  "language_info": {
   "codemirror_mode": {
    "name": "ipython",
    "version": 3
   },
   "file_extension": ".py",
   "mimetype": "text/x-python",
   "name": "python",
   "nbconvert_exporter": "python",
   "pygments_lexer": "ipython3",
   "version": "3.8.5"
  }
 },
 "nbformat": 4,
 "nbformat_minor": 4
}
