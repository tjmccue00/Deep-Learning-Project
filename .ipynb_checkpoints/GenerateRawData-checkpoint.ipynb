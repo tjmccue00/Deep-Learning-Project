{
 "cells": [
  {
   "cell_type": "code",
   "execution_count": 1,
   "metadata": {},
   "outputs": [],
   "source": [
    "import DownloadStreetView as DSV\n",
    "import numpy as np"
   ]
  },
  {
   "cell_type": "code",
   "execution_count": 2,
   "metadata": {},
   "outputs": [],
   "source": [
    "## Get images for Yosemite National Park\n",
    "# Coord of Yosemite National Park\n",
    "central_coord = [36.107030, -112.11324]\n",
    "# Width of the 32x32 grid in units of degrees\n",
    "width = 1.2\n",
    "\n",
    "# Upper left coord\n",
    "upper_left = [central_coord[0] + width / 2, central_coord[1] - width / 2]\n",
    "\n",
    "# Number of images\n",
    "num_img = 3\n",
    "\n",
    "longitude = np.arange(upper_left[0], upper_left[0] - width, -width / num_img)\n",
    "latitude = np.arange(upper_left[1], upper_left[1] + width, width / num_img)"
   ]
  },
  {
   "cell_type": "code",
   "execution_count": 3,
   "metadata": {},
   "outputs": [
    {
     "data": {
      "text/plain": [
       "array([36.70703, 36.30703, 35.90703, 35.50703])"
      ]
     },
     "execution_count": 3,
     "metadata": {},
     "output_type": "execute_result"
    }
   ],
   "source": [
    "longitude"
   ]
  },
  {
   "cell_type": "code",
   "execution_count": 4,
   "metadata": {},
   "outputs": [
    {
     "data": {
      "text/plain": [
       "array([-112.71324, -112.31324, -111.91324, -111.51324])"
      ]
     },
     "execution_count": 4,
     "metadata": {},
     "output_type": "execute_result"
    }
   ],
   "source": [
    "latitude"
   ]
  },
  {
   "cell_type": "code",
   "execution_count": 5,
   "metadata": {},
   "outputs": [],
   "source": [
    "dsv = DSV.GoogleStreetView(\"API.txt\")"
   ]
  },
  {
   "cell_type": "code",
   "execution_count": 6,
   "metadata": {},
   "outputs": [],
   "source": [
    "print(\"Starting Download...\")\n",
    "n = 1\n",
    "for x in longitude:\n",
    "    for y in latitude:\n",
    "        # Combine strings\n",
    "        dsv.update_location(str(x) + \",\" + str(y))\n",
    "        dsv.update_download_path('Yosemite')\n",
    "        dsv.download_image(str(n))\n",
    "        n += 1\n",
    "        \n",
    "print(\"Download Complete\")"
   ]
  },
  {
   "cell_type": "code",
   "execution_count": null,
   "metadata": {},
   "outputs": [],
   "source": []
  }
 ],
 "metadata": {
  "kernelspec": {
   "display_name": "Python 3",
   "language": "python",
   "name": "python3"
  },
  "language_info": {
   "codemirror_mode": {
    "name": "ipython",
    "version": 3
   },
   "file_extension": ".py",
   "mimetype": "text/x-python",
   "name": "python",
   "nbconvert_exporter": "python",
   "pygments_lexer": "ipython3",
   "version": "3.8.5"
  }
 },
 "nbformat": 4,
 "nbformat_minor": 4
}
