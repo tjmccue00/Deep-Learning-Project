{
 "cells": [
  {
   "cell_type": "code",
   "execution_count": 1,
   "metadata": {},
   "outputs": [],
   "source": [
    "import DownloadStreetView as DSV\n",
    "import numpy as np"
   ]
  },
  {
   "cell_type": "code",
   "execution_count": 12,
   "metadata": {},
   "outputs": [],
   "source": [
    "## Get images for the Grand Canyon\n",
    "# Coord of Grand Canyon\n",
    "central_coord = [37.774575, -122.435706]\n",
    "# Width of the 32x32 grid in units of degrees\n",
    "width = 0.03 # 1.2\n",
    "\n",
    "# Upper left coord\n",
    "upper_left = [central_coord[0] + width / 2, central_coord[1] - width / 2]\n",
    "\n",
    "# Number of images\n",
    "num_img = 9\n",
    "\n",
    "longitude = np.arange(upper_left[0], upper_left[0] - width, -width / num_img)\n",
    "latitude = np.arange(upper_left[1], upper_left[1] + width, width / num_img)"
   ]
  },
  {
   "cell_type": "code",
   "execution_count": 13,
   "metadata": {},
   "outputs": [
    {
     "data": {
      "text/plain": [
       "array([37.789575  , 37.78624167, 37.78290833, 37.779575  , 37.77624167,\n",
       "       37.77290833, 37.769575  , 37.76624167, 37.76290833, 37.759575  ])"
      ]
     },
     "execution_count": 13,
     "metadata": {},
     "output_type": "execute_result"
    }
   ],
   "source": [
    "longitude"
   ]
  },
  {
   "cell_type": "code",
   "execution_count": 14,
   "metadata": {},
   "outputs": [
    {
     "data": {
      "text/plain": [
       "array([-122.450706  , -122.44737267, -122.44403933, -122.440706  ,\n",
       "       -122.43737267, -122.43403933, -122.430706  , -122.42737267,\n",
       "       -122.42403933, -122.420706  ])"
      ]
     },
     "execution_count": 14,
     "metadata": {},
     "output_type": "execute_result"
    }
   ],
   "source": [
    "latitude"
   ]
  },
  {
   "cell_type": "code",
   "execution_count": 5,
   "metadata": {},
   "outputs": [],
   "source": [
    "dsv = DSV.GoogleStreetView(\"API.txt\")"
   ]
  },
  {
   "cell_type": "code",
   "execution_count": 15,
   "metadata": {},
   "outputs": [
    {
     "name": "stdout",
     "output_type": "stream",
     "text": [
      "Starting Download...\n",
      "Download Complete\n"
     ]
    }
   ],
   "source": [
    "print(\"Starting Download...\")\n",
    "n = 1\n",
    "for x in longitude:\n",
    "    for y in latitude:\n",
    "        # Combine strings\n",
    "        dsv.update_location(str(x) + \",\" + str(y))\n",
    "        dsv.update_download_path('San Francisco')\n",
    "        dsv.download_image(str(n))\n",
    "        n += 1\n",
    "        \n",
    "print(\"Download Complete\")"
   ]
  },
  {
   "cell_type": "code",
   "execution_count": null,
   "metadata": {},
   "outputs": [],
   "source": []
  }
 ],
 "metadata": {
  "kernelspec": {
   "display_name": "Python 3",
   "language": "python",
   "name": "python3"
  },
  "language_info": {
   "codemirror_mode": {
    "name": "ipython",
    "version": 3
   },
   "file_extension": ".py",
   "mimetype": "text/x-python",
   "name": "python",
   "nbconvert_exporter": "python",
   "pygments_lexer": "ipython3",
   "version": "3.8.5"
  }
 },
 "nbformat": 4,
 "nbformat_minor": 4
}
